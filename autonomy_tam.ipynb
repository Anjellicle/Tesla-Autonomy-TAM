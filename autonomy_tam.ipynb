{
 "cells": [
  {
   "cell_type": "markdown",
   "metadata": {},
   "source": [
    "# Autonomous Driving: a Multi-trillion Opportunity\n",
    "A common oversight in estimating the economic impact of autonomous driving is starting with the market size of existing rideshare services, which generate about  [`$50` billion annual revenue](https://www.statista.com/outlook/mmo/shared-mobility/ride-hailing/united-states) and cover an estimated 25 to 30 billion miles per year. By analyzing the costs of vehicle ownership, projected pricing for autonomous rideshare, and the [U.S. annual vehicle mileage distribution](#appendix-a-us-annual-vehicle-mileage), it becomes clear that a much larger segment of low-mileage vehicle ownership falls under the potential influence of autonomous rideshare. This represents a total addressable market (TAM) at least ten times the size of the current rideshare market and at a much higher margin, equivalent to a **market capitalization of at least `$2.5` trillion** without aggressive PE assumptions.\n",
    "\n",
    "While much debate has focused on individual Tesla FSD rideshare costs and earnings, this research addresses the broader economic impact by rigorous quantitative processing of vehicle mileage statistics. This method reveals not only the number of vehicles and their maximum mileage within any threshold but also the aggregate miles they contribute. Such mileage estimates highlight the vast inefficiencies of low-mileage vehicles that sit idle most of the time and provide a solid foundation for assessing the market potential of the autonomous-based rideshare service."
   ]
  },
  {
   "cell_type": "markdown",
   "metadata": {},
   "source": [
    "## Vehicle Ownership and Autonomous Rideshare Costs\n",
    "The focus is on the \"static costs\" of vehicle ownership and the \"incremental\" per-mile costs of rideshare, while inevitable expenses -- including insurance, fuelling/charging, and road taxes -- are treated as offsets.\n",
    "\n",
    "To approach conservatively, relatively lower ownership cost estimates from various sources are cited. [AAA](https://www.aaa.com/autorepair/articles/average-annual-cost-of-new-vehicle-ownership) estimated annual depreciation, financing, and administrative costs at `$3,334`, `$920`, and `$753`, respectively.  [Bankrate.com](https://www.bankrate.com/insurance/car/hidden-cost-car-ownership-study/) reported significant geographic variations in annual maintenance costs, ranging from `$742` to `$1,950`. For this analysis, the lower bound is used to remain conservative. In contrast, more aggressive estimates of maintenance and administrative costs, `$2,000` and `$1,000`, respectively, are factored into Tesla's autonomous rideshare cost analysis.\n",
    "\n",
    "Parking costs are excluded from this analysis due to their significant geographic variability, the difficulty in estimating direct and indirect expenses, the partial irrecoverability of certain costs upon outsourcing vehicle ownership (e.g. garage construction/purchase price), and to maintain a conservative approach. All other items add up to **`$5,749` per year of static costs for vehicle ownership**.\n",
    "\n",
    "Rideshare vehicles accumulate many \"deadhead\" miles -- non-revenue miles driven without passengers. A [2018 study](https://psmag.com/environment/share-rides-not-emissions/) reported deadhead mileage ranging from 20% in high-demand markets like San Francisco to as much as 50% in lower-adoption areas such as New York City. A [2019 California report](https://ww2.arb.ca.gov/sites/default/files/2019-12/SB%201014%20-%20Base%20year%20Emissions%20Inventory_December_2019.pdf) similarly estimated deadhead mileage at 39%. As autonomous rideshare adoption grows, the proportion of metered mileage is expected to improve. However, to remain conservative, this analysis assumes that only 60% of total rideshare miles are metered. Consequently, a 66.67% deadhead adjustment is applied to each metered mile in applicable cost calculations.\n",
    "\n",
    "Each autonomous rideshare vehicle is assumed to operate 200 metered miles per day, 365.25 days per year, leading to a total of 219,150 metered miles and 146,100 deadhead miles, or 365,250 combined miles over the vehicle’s 3-year life cycle. Instead of relying on the optimistic pricing presented at the RoboTaxi unveiling event, depreciation costs are calculated based on the current retail price of the Model 3 base trim, minus an estimated `$4,000` profit margin, resulting in a net production cost of approximately `$38,500`. The financing structure is assumed to be fully supported by borrowing at 5.5% APY, consistent with Tesla's current corporate bond yield. Both depreciation and financing are calculated based on a 3-year life cycle: $38500/\\sum_{i=1}^3 1.055^{-i} ≈ 14300$, resulting in approximately `$12,830` in depreciation and `$1,470` in financing costs per year.\n",
    "\n",
    "According to [ENERGYSAGE](https://www.energysage.com/ev-charging/electric-vehicle-charging-cost/tesla-charging-cost-vs-gas/), charging non-performance versions of Model 3 and Model Y generally costs well below `¢4.5` per mile. For this analysis, the per-mile charging cost is conservatively set at `¢4.5`, even though the final version of RoboTaxi is expected to be more efficient. The charging cost of metered miles would have incurred to traditional owners through their own fuelling or charging, thus are considered offset and excluded from the autonomous rideshare incremental cost calculation. For each metered mile, a 66.67% deadhead adjustment (`$0.03`) is added to rideshare costs as incremental to the baseline ownership per-mile costs.\n",
    "\n",
    "The metered mile charging cost offset is highly conservative, assuming that all vehicle owners would have transitioned to EVs without significantly increasing their static costs, while still benefiting from the lower per-mile cost compared to fuelling ICE vehicles.\n",
    "\n",
    "Public spending on roads and highways is largely funded by federal and state fuel taxes. For this analysis, it is assumed that these taxes will be transferred to EVs on a per-mile basis. According to [FHWA's 2023 statistics](https://www.fhwa.dot.gov/policyinformation/statistics/2023/), federal fuel tax revenue totaled `$37.44` billion (Table FE-221, approximated by the Highway Trust Fund payments received, ignoring the Leaking Underground Storage Tank Fund component), while state fuel tax revenue reached `$54.95` billion (Table MF-1). With the national vehicle fleet traveling 3.25 trillion miles (Table VM-2) that year, this equates to an estimated `¢2.85` per mile in combined taxes. Similar to charging cost, this tax applies to both ownership and metered rideshare miles, thus are considered offset and excluded from the autonomous rideshare incremental cost calculation. Consequently, only a 66.67% deadhead adjustment (`¢1.9`) is added to rideshare costs as incremental to the baseline ownership costs.\n",
    "\n",
    "Of the widely accepted `$2,000` annual insurance cost for Uber/Lyft vehicles, 40% (`$800`) is attributed to deadhead mileage and the remaining 60% (`$1,200`) to the metered miles. Following the same logic as the charging cost and road tax breakdown (but in a slightly different format): the metered mile insurance attribution is considered offset that would have incurred through traditional car owners' own insurance policies. Only the deadhead attribution, effectively a 66.67% adjustment (40% on top of 60%) to the metered attribution, is included in the autonomous rideshare incremental cost calculation.\n",
    "\n",
    "|| Ownership (/year) | Autonomous (/year) | Autonomous (/mile) |\n",
    "| ------------: | ------------: | ------------: | ------------: |\n",
    "| Depreciation | `$3,334` | `$12,830` | `$0.1756` |\n",
    "| Financing | `$920` | `$1,470` | `$0.0201` |\n",
    "| Maintenance | `$742` | `$2,000` | `$0.0274` |\n",
    "| Administrative | `$753` | `$1,000` | `$0.0137` |\n",
    "| Charging, deadhead | - | - | `$0.03` |\n",
    "| Road tax, deadhead | - | - | `$0.019` |\n",
    "| Insurance, deadhead | - | `$800` | `$0.011` |\n",
    "| **Total (incremental)** | **`$5,749`** | - | **`$0.2968`** |\n",
    "| Charging, metered | (usage-based) | - | `$0.045` (offset) |\n",
    "| Road tax, metered | (usage-based) | - | `$0.0285` (offset) |\n",
    "| Insurance, metered | (usage-based) | `$1,200` | `$0.0164` (offset) |\n",
    "| **Total (offset)** | - | - | **`$0.09`** |\n",
    "\n",
    "Assuming a profit margin of `¢50` per mile, riders would pay **`¢96` per mile for Tesla's autonomous rideshare service, or `¢87` above typical ownership non-static per-mile costs**. This breaks down into:\n",
    "- `¢30` for incremental operating costs\n",
    "- `¢9` for inevitable per-mile costs offset by ownership\n",
    "- `¢50` for profit\n",
    "- `¢7` for sales tax, based on an assumed tax rate of 8%"
   ]
  },
  {
   "cell_type": "markdown",
   "metadata": {},
   "source": [
    "## TAM Analysis\n",
    "\n",
    "The U.S. annual vehicle mileage analysis in [Appendix A](#appendix-a-us-annual-vehicle-mileage) estimates that 30% of the U.S. fleet, or 85.4 million vehicles, drove fewer than 5,617 miles in 2023, accounting for a total of 270 billion miles. Based on the earlier projection of Tesla's autonomous rideshare solution (`¢96` per mile, `¢87` incremental), riders would spend no more than `$4,900` extra per year than tradition owners to cover all trips, significantly less than the static costs of owning a vehicle (`$5,749`). This makes private ownership economically unjustifiable for these 85.4 million vehicles, effectively shifting all 270 billion miles of travel to autonomous rideshare. Such a substantial market size implies:\n",
    "- `$240` billion in annual revenue (`¢89` per mile before sales tax)\n",
    "- `$134.8` billion in annual operating income (`¢50` per mile)\n",
    "- over `$120` billion in annual net income (assuming a 10% tax rate)\n",
    "- **`$2.58` trillion in market capitalization** (rideshare alone, at **25x PE ratio**, factoring in 15% potential share dilution)\n",
    "\n",
    "With its unique advantage in FSD technology, Tesla is well-positioned to capture the majority of the autonomous driving TAM, as competitors' solutions remain slow and expensive to scale. The autonomous revolution is highly likely to push **Tesla's market capitalization beyond `$3.3` trillion, or its stock price above `$1,000`** (calculation detailed in [Appendix B](#appendix-b-gamma-distribution-based-tam-analysis)), as broken down below:\n",
    "- `$500` billion from EV manufacturing\n",
    "- `$2.58` trillion from autonomous driving\n",
    "- `$300` billion from expectations of:\n",
    "  - autonomous driving international expansion\n",
    "  - energy business growth\n",
    "  - humanoid robot development\n",
    "\n",
    "Tesla can also capture more ownership miles by lowering its operating profit, effectively trading margin for volume. For example, at `¢35.8` per mile profit, riders would pay `¢80.8` per mile (`¢9` offset, `¢30` incremental and `¢6` sales tax). This reduced pricing could capture 44% (or 125 million cars) of low-mileage ownership under 8,005 miles per year, totalling 540 billion miles. This equates to `$193.5` billion in annual operating income and `$4.5` trillion in total market capitalization (calculation detailed in [Appendix B](#appendix-b-gamma-distribution-based-tam-analysis)).\n",
    "\n",
    "![image](./TAM_Ladder.png)\n",
    "\n",
    "Naturally, there is a point where reducing operating profit further ceases to improve the business value. Beyond this point, the gains from capturing additional miles are outweighed by the shrinking profit margin (calculation detailed in [Appendix B](#appendix-b-gamma-distribution-based-tam-analysis)). To capture further market share while improving business value, efforts are needed to reduce operating costs. Under current assumptions, deadhead miles (40%, or a 2:3 deadhead-to-metered ratio) account for nearly half of total operating costs — including `¢6` for charging, road tax, and insurance, plus 40% of depreciation and financing. In well-penetrated rideshare markets like [San Francisco](https://psmag.com/environment/share-rides-not-emissions/) and [populated cities of China](https://mp.weixin.qq.com/s/2wkEpvoAa2uuptL-HK3TpQ), successful rideshare platforms have reduced deadhead percentages to near or below 25% (or a 1:3 ratio).\n",
    "\n",
    "Improving the deadhead-to-metered ratio from 2:3 to 3:7 would result in a 35.7% reduction (from `2/3` to `3/7`) in deadhead-related charging, road tax, and insurance costs, along with a 14.3% reduction (from `1+2/3` to `1+3/7`) in depreciation and financing. This improvement reflects fewer deadhead miles driven per day to serve the same number of metered miles, reducing per-mile incremental costs from `¢30` to `¢25`. Under this revised assumption, with `¢33.8` per mile in profit, riders would pay `¢73.3` per mile (`¢9` offset, `¢25` incremental, and `¢5.4` sales tax). This pricing could capture 49% (nearly 140 million cars) of low-mileage ownership under 8,947 miles per year, totalling 660 billion miles. This translates to `$223.5` billion in annual operating income and over `$5` trillion in total market capitalization (calculation detailed in [Appendix B](#appendix-b-gamma-distribution-based-tam-analysis))."
   ]
  },
  {
   "cell_type": "markdown",
   "metadata": {},
   "source": [
    "## Conservatism in Assumptions\n",
    "This analysis is highly conservative, as it excludes the following factors:\n",
    "- Parking cost savings encourage ownership outsourcing: many vehicle owners incur significant parking expenses, which increase the static cost of ownership. Autonomous rideshares, with no need for individual parking, can attract more users and claim additional miles from private vehicle ownership.\n",
    "\n",
    "- Capture of traditional rideshare miles and beyond: autonomous solutions will likely absorb the 25 billion miles currently served by traditional rideshares (e.g., taxi, Uber, Lyft) due to competitive pricing. For the same reason, more \"taxi-like\" miles will be created for scenarios like long-distance travel or destinations with parking scarcity.\n",
    "\n",
    "- Outsourcing by non-low-mileage drivers: even higher-mileage vehicle owners may adopt autonomous rideshare solutions to reduce fatigue, enhance productivity, or enjoy entertainment during trips.\n",
    "\n",
    "- Flexibility in vehicle capacity: rideshare services offer the advantage of matching vehicle size to trip needs, eliminating the limitations of owning a single vehicle with fixed capacity.\n",
    "\n",
    "- Hedge against underutilization risk: vehicle owners face the risk of paying fixed costs such as depreciation, financing, and administrative expenses during periods of minimal usage. By opting for autonomous rideshares, these static costs are avoided, and reduced travel demand translates directly into monetary savings.\n",
    "\n",
    "- Cost efficiency for group travel: high-capacity autonomous options, like RoboVans, can significantly lower per-mile costs, encouraging more group or family trips and unlocking additional demand.\n",
    "\n",
    "- Stimulus of additional travel: stress-free, autonomous trips may lead to increased travel overall, stimulating greater mileage across the economy.\n",
    "\n",
    "- International market potential: expansion into global markets could substantially boost autonomous rideshare profits, potentially doubling revenue opportunities.\n",
    "\n",
    "- Lower maintenance costs: Tesla vehicles, being electric and designed with fewer moving parts, are generally less expensive to maintain and service compared to traditional internal combustion engine vehicles. This contributes to reduced operating costs for autonomous rideshares.\n",
    "\n",
    "- Reduced insurance costs: as autonomous driving technology advances and proves to be safer than human driving, insurance premiums are expected to decrease, further lowering the overall cost of operating autonomous vehicles.\n",
    "\n",
    "- Utilization during low-demand hours: autonomous vehicles can extend their utility by serving as delivery solutions during off-peak periods, such as late nights, with the assistance of robotics. This maximizes vehicle usage and enhances overall fleet efficiency.\n",
    "\n",
    "Finally, the autonomous rideshare future may be closer than many anticipate. This is not only due to Tesla's rapid advancements in FSD usability but also because riders' driving capabilities can be leveraged to complete most trips even before FSD achieves full Level-4 autonomy. As outlined in [an earlier analysis](https://x.com/anjellicle_npc/status/1854539920456528121), as long as Tesla can reliably deliver unmanned vehicles to riders' designated meeting points, riders, most of whom are former vehicle owners, will be capable of operating the vehicles to complete their trips. At this intermediate stage, the need for dedicated human drivers will be eliminated, achieving in advance the significant reduction of rideshare costs by autonomy."
   ]
  },
  {
   "cell_type": "markdown",
   "metadata": {},
   "source": [
    "---------------------------------------------------------------\n",
    "\n",
    "This code block prepares the computing environment for later steps in Appendix [A](#appendix-a-us-annual-vehicle-mileage), [B](#appendix-b-gamma-distribution-based-tam-analysis) and  [C](#appendix-c-monte-carlo-validation)."
   ]
  },
  {
   "cell_type": "code",
   "execution_count": 1,
   "metadata": {},
   "outputs": [],
   "source": [
    "import numpy\n",
    "from scipy.stats import gamma\n",
    "from scipy.optimize import minimize\n",
    "from scipy.integrate import quad\n",
    "import matplotlib.pyplot\n",
    "import pandas\n",
    "import math"
   ]
  },
  {
   "cell_type": "markdown",
   "metadata": {},
   "source": [
    "<a id='appendix-a-us-annual-vehicle-mileage'></a>\n",
    "## Appendix A: U.S. Annual Vehicle Mileage\n",
    "Americans are driving more miles each year on average. However, the pattern of annual vehicle mileage, when scaled by the average mileage, has remained remarkably consistent over time. To model the U.S. annual vehicle mileage distribution, a normalized approach is adopted, standardized by the annual average mileage. A Gamma distribution (with scale parameterization) is used, where the scale parameter $\\theta$ is set as the reciprocal of the shape parameter $\\alpha$ to normalize the average:"
   ]
  },
  {
   "cell_type": "code",
   "execution_count": 2,
   "metadata": {},
   "outputs": [],
   "source": [
    "# Gamma parameters\n",
    "mean = 1 # sample scaled by mile_mean, always 1, do not change\n",
    "alpha = 2.0 # or any reasonable initial guess\n",
    "theta = mean/alpha # scale parameterization"
   ]
  },
  {
   "cell_type": "markdown",
   "metadata": {},
   "source": [
    "By the definition of probability density functions, the size of the cohort driving between $x_l$ and $x_r$ miles annually can be calculated using the integral $$N\\int_{x_l}^{x_r} f(x) dx$$ where $N$ represents the total size of the national fleet and $f(x)$ is any valid probability density function, including the Gamma distribution defined here: $f(x,\\alpha,\\frac{1}{\\alpha})$.\n",
    "\n",
    "Similarly, the aggregate annual miles accumulated by the cohort can be expressed as the partial expectation integral $$T\\int_{x_l}^{x_r} x f(x) dx$$ where $T$ represents the total miles traveled by the national fleet.\n",
    "\n",
    "To extract the Gamma distribution, specifically the shape parameter $\\alpha$, the [2017 NHTS survey](https://nhts.ornl.gov/) (\"AVG_BESTMILE\" and \"BESTMILE\" as a histogram divided into eight different mileage buckets) is utilized. The mileage buckets are standardized by the total mean, and the sample sizes are used to create cumulative distribution probabilities:"
   ]
  },
  {
   "cell_type": "code",
   "execution_count": 3,
   "metadata": {},
   "outputs": [],
   "source": [
    "# NHTS 2017 survey\n",
    "x_text = [\"Less than 5,000 miles\", \"5,000 - 9,999 miles\",\n",
    "          \"10,000 - 14,999 miles\", \"15,000 - 19,999 miles\",\n",
    "          \"20,000 - 24,999 miles\", \"25,000 - 29,999 miles\",\n",
    "          \"30,000 - 39,999 miles\", \"40,000 miles and above\"]\n",
    "sample_size = numpy.array([72132, 73650, 52769, 27033, 12771, 6231, 4515, 2991])\n",
    "mile_hist_mean = numpy.array([2530.13, 7466.99, 12284.06, 17191.86, 22253.85,\n",
    "                              27191.32, 33744.20, 70811.90])\n",
    "mile_mean = 11130.59\n",
    "\n",
    "mile_vec = numpy.array([5000,10000,15000,20000,25000,30000,40000])\n",
    "x_vec = mile_vec/mile_mean\n",
    "mile_hist = sample_size/numpy.sum(sample_size)\n",
    "cdf_targets = numpy.cumsum(mile_hist[0:-1])"
   ]
  },
  {
   "cell_type": "markdown",
   "metadata": {},
   "source": [
    "The Gamma distribution is fitted to the real data by adjusting $\\alpha$ to minimize the total squared errors of the cumulative distribution probabilities:"
   ]
  },
  {
   "cell_type": "code",
   "execution_count": 4,
   "metadata": {},
   "outputs": [
    {
     "name": "stdout",
     "output_type": "stream",
     "text": [
      "Fitted Gamma distribution shape parameter (alpha):  1.6028897972664546\n"
     ]
    }
   ],
   "source": [
    "# Fitting the Gamma distribution\n",
    "def gamma_fit(a,m,x,y):\n",
    "    cdf = gamma.cdf(x, a, scale=m/a)\n",
    "    cdf_err = cdf - y\n",
    "    return numpy.linalg.norm(cdf_err,2)**2\n",
    "\n",
    "fitting = minimize(gamma_fit,alpha,args=(mean,x_vec,cdf_targets))\n",
    "alpha = fitting.x[0]\n",
    "print(\"Fitted Gamma distribution shape parameter (alpha): \", alpha)"
   ]
  },
  {
   "cell_type": "markdown",
   "metadata": {},
   "source": [
    "To evaluate the fit of the Gamma distribution, the implied bucket probabilities are compared against the original data, showing a very acceptable level of agreement."
   ]
  },
  {
   "cell_type": "code",
   "execution_count": 5,
   "metadata": {},
   "outputs": [
    {
     "data": {
      "image/png": "[encoded data removed]",
      "text/plain": [
       "<Figure size 640x480 with 1 Axes>"
      ]
     },
     "metadata": {},
     "output_type": "display_data"
    }
   ],
   "source": [
    "# Gamma distribution fitting evaluation: bucket probabilities\n",
    "cdf_fitted = numpy.append(gamma.cdf(x_vec, alpha, scale=mean/alpha),1.0)\n",
    "mile_hist_fitted = numpy.append(cdf_fitted[0],cdf_fitted[1:]-cdf_fitted[:-1])\n",
    "\n",
    "cl_blue = \"#6fa8dc\"\n",
    "cl_red = \"#e06666\"\n",
    "barWidth = 0.25\n",
    "bx1 = numpy.arange(len(x_text))\n",
    "bx2 = bx1 + 1.1*barWidth\n",
    "\n",
    "fig_hist_check = matplotlib.pyplot.figure()\n",
    "bar1 = matplotlib.pyplot.bar(bx1, mile_hist, barWidth, color = cl_blue)\n",
    "bar2 = matplotlib.pyplot.bar(bx2, mile_hist_fitted, barWidth, color = cl_red)\n",
    "bar_xt = matplotlib.pyplot.xticks(bx1+0.55*barWidth, x_text,\n",
    "                                  fontsize=8, rotation=45, ha='right')\n",
    "fig_hist_check.axes[0].yaxis.set_major_formatter(\n",
    "    matplotlib.ticker.PercentFormatter(xmax=1.0,decimals=0))\n",
    "_ = matplotlib.pyplot.legend((bar1[0],bar2[0]),(\"2017 NHTS\",\"Gamma\"),\n",
    "                             loc=\"upper right\")"
   ]
  },
  {
   "cell_type": "markdown",
   "metadata": {},
   "source": [
    "In addition, the 2017 NHTS survey also provides average mileage values for each bucket. While the fitted Gamma distribution generates significantly different average for the highest mileage bucket, it agrees remarkably well to the real data for all other buckets, making it suitable for this specific analysis, which focuses on the low-mileage segment of the fleet."
   ]
  },
  {
   "cell_type": "code",
   "execution_count": 6,
   "metadata": {},
   "outputs": [
    {
     "data": {
      "image/png": "[encoded data removed]",
      "text/plain": [
       "<Figure size 640x480 with 1 Axes>"
      ]
     },
     "metadata": {},
     "output_type": "display_data"
    }
   ],
   "source": [
    "# Gamma distribution fitting evaluation: bucket averages\n",
    "def gamma_partial_exp(alpha, mean, xl, xr):\n",
    "    integral,_ = quad(lambda x: x*gamma.pdf(x, alpha, scale=mean/alpha), xl, xr)\n",
    "    return integral\n",
    "gamma_partial_exp_vectorized = numpy.vectorize(gamma_partial_exp)\n",
    "mile_hist_mean_fitted = (gamma_partial_exp_vectorized(\n",
    "    alpha, mean, numpy.append(0,x_vec), numpy.append(x_vec,10000.0))\n",
    "    *mile_mean/mile_hist_fitted)\n",
    "\n",
    "fig_mean_check = matplotlib.pyplot.figure()\n",
    "bar1 = matplotlib.pyplot.bar(bx1, mile_hist_mean, barWidth, color = cl_blue)\n",
    "bar2 = matplotlib.pyplot.bar(bx2, mile_hist_mean_fitted, barWidth,\n",
    "                             color = cl_red)\n",
    "bar_xt = matplotlib.pyplot.xticks(bx1+0.55*barWidth, x_text,\n",
    "                                  fontsize=8, rotation=45, ha='right')\n",
    "_ = matplotlib.pyplot.legend((bar1[0],bar2[0]),(\"2017 NHTS\",\"Gamma\"),\n",
    "                             loc=\"upper left\")"
   ]
  },
  {
   "cell_type": "markdown",
   "metadata": {},
   "source": [
    "The [FHWA's 2023 statistics](https://www.fhwa.dot.gov/policyinformation/statistics/2023/) reported the size of the registered U.S. vehicle fleet at 284.6 million vehicles (Table MV-1), which drove 3.25 trillion miles (Table VM-2) in 2023. Using the fitted Gamma distribution scaled to the latest national average annual mileage (11,408 miles), quantile analysis can be performed via the inverse cumulative distribution function and the partial expectation integral. For example, 30% of the U.S. fleet (equivalent to 85.4 million vehicles) drove fewer than 5,617.5 miles in 2023, contributing a total of 269.7 billion miles to the aggregate."
   ]
  },
  {
   "cell_type": "code",
   "execution_count": 7,
   "metadata": {},
   "outputs": [
    {
     "data": {
      "application/vnd.microsoft.datawrangler.viewer.v0+json": {
       "columns": [
        {
         "name": "index",
         "rawType": "object",
         "type": "string"
        },
        {
         "name": "Cohort Size (millions)",
         "rawType": "object",
         "type": "string"
        },
        {
         "name": "Max. Cohort Mileage",
         "rawType": "object",
         "type": "string"
        },
        {
         "name": "Total Cohort Miles (billions)",
         "rawType": "object",
         "type": "string"
        }
       ],
       "conversionMethod": "pd.DataFrame",
       "ref": "f83495c5-be58-42e8-b03f-9733941e8654",
       "rows": [
        [
         "30%",
         "85.4",
         "5617.5",
         "269.7"
        ],
        [
         "31%",
         "88.2",
         "5779.4",
         "285.9"
        ],
        [
         "32%",
         "91.1",
         "5942.4",
         "302.6"
        ],
        [
         "33%",
         "93.9",
         "6106.4",
         "319.7"
        ],
        [
         "34%",
         "96.8",
         "6271.5",
         "337.3"
        ],
        [
         "35%",
         "99.6",
         "6437.9",
         "355.4"
        ],
        [
         "36%",
         "102.5",
         "6605.5",
         "374.0"
        ],
        [
         "37%",
         "105.3",
         "6774.6",
         "393.0"
        ],
        [
         "38%",
         "108.2",
         "6945.1",
         "412.6"
        ],
        [
         "39%",
         "111.0",
         "7117.2",
         "432.6"
        ],
        [
         "40%",
         "113.8",
         "7291.0",
         "453.1"
        ],
        [
         "41%",
         "116.7",
         "7466.5",
         "474.1"
        ],
        [
         "42%",
         "119.5",
         "7643.9",
         "495.6"
        ],
        [
         "43%",
         "122.4",
         "7823.3",
         "517.6"
        ],
        [
         "44%",
         "125.2",
         "8004.7",
         "540.1"
        ],
        [
         "45%",
         "128.1",
         "8188.3",
         "563.2"
        ],
        [
         "46%",
         "130.9",
         "8374.2",
         "586.7"
        ],
        [
         "47%",
         "133.8",
         "8562.4",
         "610.8"
        ],
        [
         "48%",
         "136.6",
         "8753.2",
         "635.5"
        ],
        [
         "49%",
         "139.5",
         "8946.7",
         "660.7"
        ],
        [
         "50%",
         "142.3",
         "9142.9",
         "686.4"
        ]
       ],
       "shape": {
        "columns": 3,
        "rows": 21
       }
      },
      "text/html": [
       "<div>\n",
       "<style scoped>\n",
       "    .dataframe tbody tr th:only-of-type {\n",
       "        vertical-align: middle;\n",
       "    }\n",
       "\n",
       "    .dataframe tbody tr th {\n",
       "        vertical-align: top;\n",
       "    }\n",
       "\n",
       "    .dataframe thead th {\n",
       "        text-align: right;\n",
       "    }\n",
       "</style>\n",
       "<table border=\"1\" class=\"dataframe\">\n",
       "  <thead>\n",
       "    <tr style=\"text-align: right;\">\n",
       "      <th></th>\n",
       "      <th>Cohort Size (millions)</th>\n",
       "      <th>Max. Cohort Mileage</th>\n",
       "      <th>Total Cohort Miles (billions)</th>\n",
       "    </tr>\n",
       "  </thead>\n",
       "  <tbody>\n",
       "    <tr>\n",
       "      <th>30%</th>\n",
       "      <td>85.4</td>\n",
       "      <td>5617.5</td>\n",
       "      <td>269.7</td>\n",
       "    </tr>\n",
       "    <tr>\n",
       "      <th>31%</th>\n",
       "      <td>88.2</td>\n",
       "      <td>5779.4</td>\n",
       "      <td>285.9</td>\n",
       "    </tr>\n",
       "    <tr>\n",
       "      <th>32%</th>\n",
       "      <td>91.1</td>\n",
       "      <td>5942.4</td>\n",
       "      <td>302.6</td>\n",
       "    </tr>\n",
       "    <tr>\n",
       "      <th>33%</th>\n",
       "      <td>93.9</td>\n",
       "      <td>6106.4</td>\n",
       "      <td>319.7</td>\n",
       "    </tr>\n",
       "    <tr>\n",
       "      <th>34%</th>\n",
       "      <td>96.8</td>\n",
       "      <td>6271.5</td>\n",
       "      <td>337.3</td>\n",
       "    </tr>\n",
       "    <tr>\n",
       "      <th>35%</th>\n",
       "      <td>99.6</td>\n",
       "      <td>6437.9</td>\n",
       "      <td>355.4</td>\n",
       "    </tr>\n",
       "    <tr>\n",
       "      <th>36%</th>\n",
       "      <td>102.5</td>\n",
       "      <td>6605.5</td>\n",
       "      <td>374.0</td>\n",
       "    </tr>\n",
       "    <tr>\n",
       "      <th>37%</th>\n",
       "      <td>105.3</td>\n",
       "      <td>6774.6</td>\n",
       "      <td>393.0</td>\n",
       "    </tr>\n",
       "    <tr>\n",
       "      <th>38%</th>\n",
       "      <td>108.2</td>\n",
       "      <td>6945.1</td>\n",
       "      <td>412.6</td>\n",
       "    </tr>\n",
       "    <tr>\n",
       "      <th>39%</th>\n",
       "      <td>111.0</td>\n",
       "      <td>7117.2</td>\n",
       "      <td>432.6</td>\n",
       "    </tr>\n",
       "    <tr>\n",
       "      <th>40%</th>\n",
       "      <td>113.8</td>\n",
       "      <td>7291.0</td>\n",
       "      <td>453.1</td>\n",
       "    </tr>\n",
       "    <tr>\n",
       "      <th>41%</th>\n",
       "      <td>116.7</td>\n",
       "      <td>7466.5</td>\n",
       "      <td>474.1</td>\n",
       "    </tr>\n",
       "    <tr>\n",
       "      <th>42%</th>\n",
       "      <td>119.5</td>\n",
       "      <td>7643.9</td>\n",
       "      <td>495.6</td>\n",
       "    </tr>\n",
       "    <tr>\n",
       "      <th>43%</th>\n",
       "      <td>122.4</td>\n",
       "      <td>7823.3</td>\n",
       "      <td>517.6</td>\n",
       "    </tr>\n",
       "    <tr>\n",
       "      <th>44%</th>\n",
       "      <td>125.2</td>\n",
       "      <td>8004.7</td>\n",
       "      <td>540.1</td>\n",
       "    </tr>\n",
       "    <tr>\n",
       "      <th>45%</th>\n",
       "      <td>128.1</td>\n",
       "      <td>8188.3</td>\n",
       "      <td>563.2</td>\n",
       "    </tr>\n",
       "    <tr>\n",
       "      <th>46%</th>\n",
       "      <td>130.9</td>\n",
       "      <td>8374.2</td>\n",
       "      <td>586.7</td>\n",
       "    </tr>\n",
       "    <tr>\n",
       "      <th>47%</th>\n",
       "      <td>133.8</td>\n",
       "      <td>8562.4</td>\n",
       "      <td>610.8</td>\n",
       "    </tr>\n",
       "    <tr>\n",
       "      <th>48%</th>\n",
       "      <td>136.6</td>\n",
       "      <td>8753.2</td>\n",
       "      <td>635.5</td>\n",
       "    </tr>\n",
       "    <tr>\n",
       "      <th>49%</th>\n",
       "      <td>139.5</td>\n",
       "      <td>8946.7</td>\n",
       "      <td>660.7</td>\n",
       "    </tr>\n",
       "    <tr>\n",
       "      <th>50%</th>\n",
       "      <td>142.3</td>\n",
       "      <td>9142.9</td>\n",
       "      <td>686.4</td>\n",
       "    </tr>\n",
       "  </tbody>\n",
       "</table>\n",
       "</div>"
      ],
      "text/plain": [
       "    Cohort Size (millions) Max. Cohort Mileage Total Cohort Miles (billions)\n",
       "30%                   85.4              5617.5                         269.7\n",
       "31%                   88.2              5779.4                         285.9\n",
       "32%                   91.1              5942.4                         302.6\n",
       "33%                   93.9              6106.4                         319.7\n",
       "34%                   96.8              6271.5                         337.3\n",
       "35%                   99.6              6437.9                         355.4\n",
       "36%                  102.5              6605.5                         374.0\n",
       "37%                  105.3              6774.6                         393.0\n",
       "38%                  108.2              6945.1                         412.6\n",
       "39%                  111.0              7117.2                         432.6\n",
       "40%                  113.8              7291.0                         453.1\n",
       "41%                  116.7              7466.5                         474.1\n",
       "42%                  119.5              7643.9                         495.6\n",
       "43%                  122.4              7823.3                         517.6\n",
       "44%                  125.2              8004.7                         540.1\n",
       "45%                  128.1              8188.3                         563.2\n",
       "46%                  130.9              8374.2                         586.7\n",
       "47%                  133.8              8562.4                         610.8\n",
       "48%                  136.6              8753.2                         635.5\n",
       "49%                  139.5              8946.7                         660.7\n",
       "50%                  142.3              9142.9                         686.4"
      ]
     },
     "metadata": {},
     "output_type": "display_data"
    }
   ],
   "source": [
    "# Quantile analysis\n",
    "us_tmv = 3246817000000\n",
    "us_fleet = 284614269\n",
    "tmv_average = us_tmv/us_fleet\n",
    "\n",
    "prob_vec = numpy.arange(0.3,0.51,0.01) #(0.2,0.55,0.05)\n",
    "quantile_vec = gamma.ppf(prob_vec, alpha, scale=mean/alpha)*tmv_average\n",
    "\n",
    "partial_exp_vec = gamma_partial_exp_vectorized(alpha, mean,\n",
    "                                0, quantile_vec/tmv_average)*us_tmv/1000000000\n",
    "\n",
    "quantile_df = pandas.DataFrame({\"Quantile\":prob_vec,\n",
    "                            \"Cohort Size (millions)\":prob_vec*us_fleet/1000000,\n",
    "                            \"Max. Cohort Mileage\":quantile_vec,\n",
    "                            \"Total Cohort Miles (billions)\":partial_exp_vec})\n",
    "quantile_df_disp = quantile_df.copy()\n",
    "quantile_df_disp[\"Quantile\"] = \\\n",
    "    quantile_df_disp[\"Quantile\"].apply(lambda x: f\"{x:.0%}\")\n",
    "quantile_df_disp[\"Cohort Size (millions)\"] = \\\n",
    "    quantile_df_disp[\"Cohort Size (millions)\"].apply(lambda x: f\"{x:.1f}\")\n",
    "quantile_df_disp[\"Max. Cohort Mileage\"] = \\\n",
    "    quantile_df_disp[\"Max. Cohort Mileage\"].apply(lambda x: f\"{x:.1f}\")\n",
    "quantile_df_disp[\"Total Cohort Miles (billions)\"] = \\\n",
    "    quantile_df_disp[\"Total Cohort Miles (billions)\"].apply(lambda x:f\"{x:.1f}\")\n",
    "quantile_df_disp.set_index(keys=\"Quantile\",inplace=True)\n",
    "quantile_df_disp.index.name = None\n",
    "display(quantile_df_disp)"
   ]
  },
  {
   "cell_type": "markdown",
   "metadata": {},
   "source": [
    "<a id='appendix-b-gamma-distribution-based-tam-analysis'></a>\n",
    "## Appendix B: Gamma distribution based TAM analysis"
   ]
  },
  {
   "cell_type": "code",
   "execution_count": 8,
   "metadata": {},
   "outputs": [
    {
     "data": {
      "application/vnd.microsoft.datawrangler.viewer.v0+json": {
       "columns": [
        {
         "name": "index",
         "rawType": "object",
         "type": "string"
        },
        {
         "name": "30%",
         "rawType": "float64",
         "type": "float"
        },
        {
         "name": "44%",
         "rawType": "float64",
         "type": "float"
        }
       ],
       "conversionMethod": "pd.DataFrame",
       "ref": "d04e54ae-ab14-480b-b608-df32f43b05ba",
       "rows": [
        [
         "Cohort Size (millions)",
         "85.3842807",
         "125.23027836000003"
        ],
        [
         "Max. Cohort Mileage",
         "5617.451753513291",
         "8004.691791029494"
        ],
        [
         "Total Cohort Miles (billions)",
         "269.6862503468591",
         "540.1094296907886"
        ],
        [
         "Extra per mile",
         "0.8712000000000001",
         "0.7182037922362796"
        ],
        [
         "Extra per year",
         "4893.923967660779",
         "5749.0"
        ],
        [
         "Total per mile",
         "0.9612",
         "0.8082037922362796"
        ],
        [
         "Tax per mile",
         "0.0712",
         "0.059866947573057744"
        ],
        [
         "Offset per mile",
         "0.09",
         "0.09"
        ],
        [
         "Operation per mile",
         "0.3",
         "0.3"
        ],
        [
         "Profit per mile",
         "0.5",
         "0.35833684466322185"
        ],
        [
         "Annual revenue",
         "240.02076280870457",
         "404.183786387657"
        ],
        [
         "Annual income",
         "134.84312517342954",
         "193.54110880824945"
        ],
        [
         "Market Cap (trillions)",
         "3.3788747689418397",
         "4.50147370595777"
        ]
       ],
       "shape": {
        "columns": 2,
        "rows": 13
       }
      },
      "text/html": [
       "<div>\n",
       "<style scoped>\n",
       "    .dataframe tbody tr th:only-of-type {\n",
       "        vertical-align: middle;\n",
       "    }\n",
       "\n",
       "    .dataframe tbody tr th {\n",
       "        vertical-align: top;\n",
       "    }\n",
       "\n",
       "    .dataframe thead th {\n",
       "        text-align: right;\n",
       "    }\n",
       "</style>\n",
       "<table border=\"1\" class=\"dataframe\">\n",
       "  <thead>\n",
       "    <tr style=\"text-align: right;\">\n",
       "      <th></th>\n",
       "      <th>30%</th>\n",
       "      <th>44%</th>\n",
       "    </tr>\n",
       "  </thead>\n",
       "  <tbody>\n",
       "    <tr>\n",
       "      <th>Cohort Size (millions)</th>\n",
       "      <td>85.384281</td>\n",
       "      <td>125.230278</td>\n",
       "    </tr>\n",
       "    <tr>\n",
       "      <th>Max. Cohort Mileage</th>\n",
       "      <td>5617.451754</td>\n",
       "      <td>8004.691791</td>\n",
       "    </tr>\n",
       "    <tr>\n",
       "      <th>Total Cohort Miles (billions)</th>\n",
       "      <td>269.686250</td>\n",
       "      <td>540.109430</td>\n",
       "    </tr>\n",
       "    <tr>\n",
       "      <th>Extra per mile</th>\n",
       "      <td>0.871200</td>\n",
       "      <td>0.718204</td>\n",
       "    </tr>\n",
       "    <tr>\n",
       "      <th>Extra per year</th>\n",
       "      <td>4893.923968</td>\n",
       "      <td>5749.000000</td>\n",
       "    </tr>\n",
       "    <tr>\n",
       "      <th>Total per mile</th>\n",
       "      <td>0.961200</td>\n",
       "      <td>0.808204</td>\n",
       "    </tr>\n",
       "    <tr>\n",
       "      <th>Tax per mile</th>\n",
       "      <td>0.071200</td>\n",
       "      <td>0.059867</td>\n",
       "    </tr>\n",
       "    <tr>\n",
       "      <th>Offset per mile</th>\n",
       "      <td>0.090000</td>\n",
       "      <td>0.090000</td>\n",
       "    </tr>\n",
       "    <tr>\n",
       "      <th>Operation per mile</th>\n",
       "      <td>0.300000</td>\n",
       "      <td>0.300000</td>\n",
       "    </tr>\n",
       "    <tr>\n",
       "      <th>Profit per mile</th>\n",
       "      <td>0.500000</td>\n",
       "      <td>0.358337</td>\n",
       "    </tr>\n",
       "    <tr>\n",
       "      <th>Annual revenue</th>\n",
       "      <td>240.020763</td>\n",
       "      <td>404.183786</td>\n",
       "    </tr>\n",
       "    <tr>\n",
       "      <th>Annual income</th>\n",
       "      <td>134.843125</td>\n",
       "      <td>193.541109</td>\n",
       "    </tr>\n",
       "    <tr>\n",
       "      <th>Market Cap (trillions)</th>\n",
       "      <td>3.378875</td>\n",
       "      <td>4.501474</td>\n",
       "    </tr>\n",
       "  </tbody>\n",
       "</table>\n",
       "</div>"
      ],
      "text/plain": [
       "                                       30%          44%\n",
       "Cohort Size (millions)           85.384281   125.230278\n",
       "Max. Cohort Mileage            5617.451754  8004.691791\n",
       "Total Cohort Miles (billions)   269.686250   540.109430\n",
       "Extra per mile                    0.871200     0.718204\n",
       "Extra per year                 4893.923968  5749.000000\n",
       "Total per mile                    0.961200     0.808204\n",
       "Tax per mile                      0.071200     0.059867\n",
       "Offset per mile                   0.090000     0.090000\n",
       "Operation per mile                0.300000     0.300000\n",
       "Profit per mile                   0.500000     0.358337\n",
       "Annual revenue                  240.020763   404.183786\n",
       "Annual income                   134.843125   193.541109\n",
       "Market Cap (trillions)            3.378875     4.501474"
      ]
     },
     "metadata": {},
     "output_type": "display_data"
    },
    {
     "data": {
      "image/png": "[encoded data removed]",
      "text/plain": [
       "<Figure size 640x480 with 1 Axes>"
      ]
     },
     "metadata": {},
     "output_type": "display_data"
    }
   ],
   "source": [
    "annual_ownership = 5749\n",
    "tax_sales = 0.08\n",
    "cost_op = 0.3\n",
    "cost_offset = 0.09\n",
    "profit_max = 0.5\n",
    "tax_corp = 0.1\n",
    "dilution = 0.15\n",
    "pe = 25\n",
    "mark_cap_ev = 0.5\n",
    "mark_cap_others = 0.3\n",
    "\n",
    "tam_df = quantile_df.copy()\n",
    "tam_df[\"Extra per mile\"] = ((annual_ownership/tam_df[\"Max. Cohort Mileage\"])\n",
    "                            .clip(upper=(cost_op+profit_max)*(1+tax_sales)\n",
    "                                  +cost_offset*tax_sales))\n",
    "tam_df[\"Extra per year\"] = \\\n",
    "        tam_df[\"Extra per mile\"]*tam_df[\"Max. Cohort Mileage\"]\n",
    "tam_df[\"Total per mile\"] = tam_df[\"Extra per mile\"] + cost_offset\n",
    "tam_df[\"Tax per mile\"] = tam_df[\"Total per mile\"]/(1+tax_sales)*tax_sales\n",
    "tam_df[\"Offset per mile\"] = cost_offset\n",
    "tam_df[\"Operation per mile\"] = cost_op\n",
    "tam_df[\"Profit per mile\"] = (tam_df[\"Total per mile\"] - tam_df[\"Tax per mile\"]\n",
    "                - tam_df[\"Offset per mile\"] - tam_df[\"Operation per mile\"])\n",
    "tam_df[\"Annual revenue\"] = ((tam_df[\"Total per mile\"] - tam_df[\"Tax per mile\"])\n",
    "                            *tam_df[\"Total Cohort Miles (billions)\"])\n",
    "tam_df[\"Annual income\"] = (tam_df[\"Profit per mile\"]\n",
    "        *tam_df[\"Total Cohort Miles (billions)\"])\n",
    "tam_df[\"Market Cap (trillions)\"] = (\n",
    "    tam_df[\"Annual income\"]*(1-tax_corp)*(1-dilution)*pe/1000\n",
    "    + mark_cap_ev + mark_cap_others)\n",
    "tam_df.set_index(keys=\"Quantile\",inplace=True)\n",
    "#display(tam_df)\n",
    "\n",
    "fig_tam_ladder = matplotlib.pyplot.figure()\n",
    "bar = matplotlib.pyplot.bar(numpy.arange(tam_df.shape[0]),\n",
    "                            tam_df[\"Market Cap (trillions)\"],\n",
    "                            2*barWidth, color = cl_blue)\n",
    "_ = matplotlib.pyplot.xticks(numpy.arange(tam_df.shape[0])[0::5],\n",
    "                                  [f\"{x:.0%}\" for x in tam_df.index][0::5],\n",
    "                                  fontsize=8, ha='center')\n",
    "_ = matplotlib.pyplot.xlabel(\"Ownership Share Captured\")\n",
    "plt_y_lim = math.ceil(max(tam_df[\"Market Cap (trillions)\"]))\n",
    "_ = fig_tam_ladder.axes[0].set_ylim(0,plt_y_lim)\n",
    "_ = matplotlib.pyplot.yticks(numpy.arange(0,plt_y_lim+1))\n",
    "_ = matplotlib.pyplot.ylabel(\"Market Capitalization\")\n",
    "matplotlib.pyplot.savefig(\"TAM_Ladder.png\",bbox_inches='tight')\n",
    "del plt_y_lim\n",
    "\n",
    "tam_base_bull = pandas.DataFrame(tam_df.loc[[\n",
    "                tam_df[\"Market Cap (trillions)\"].index[0],\n",
    "                tam_df[\"Market Cap (trillions)\"].idxmax()]]).transpose()\n",
    "tam_base_bull.columns = [f\"{x:.0%}\" for x in tam_base_bull.columns]\n",
    "display(tam_base_bull)"
   ]
  },
  {
   "cell_type": "code",
   "execution_count": 9,
   "metadata": {},
   "outputs": [
    {
     "data": {
      "application/vnd.microsoft.datawrangler.viewer.v0+json": {
       "columns": [
        {
         "name": "index",
         "rawType": "object",
         "type": "string"
        },
        {
         "name": "30%",
         "rawType": "float64",
         "type": "float"
        },
        {
         "name": "49%",
         "rawType": "float64",
         "type": "float"
        }
       ],
       "conversionMethod": "pd.DataFrame",
       "ref": "051615e3-4eb2-443f-96e4-e5af75c98235",
       "rows": [
        [
         "Cohort Size (millions)",
         "85.3842807",
         "139.46099181000002"
        ],
        [
         "Max. Cohort Mileage",
         "5617.451753513291",
         "8946.679017635553"
        ],
        [
         "Total Cohort Miles (billions)",
         "269.6862503468591",
         "660.6515450660767"
        ],
        [
         "Extra per mile",
         "0.8172",
         "0.6425848059003415"
        ],
        [
         "Extra per year",
         "4590.581572971061",
         "5749.0"
        ],
        [
         "Total per mile",
         "0.9072",
         "0.7325848059003415"
        ],
        [
         "Tax per mile",
         "0.0672",
         "0.05426554117780307"
        ],
        [
         "Offset per mile",
         "0.09",
         "0.09"
        ],
        [
         "Operation per mile",
         "0.25",
         "0.25"
        ],
        [
         "Profit per mile",
         "0.5",
         "0.3383192647225385"
        ],
        [
         "Annual revenue",
         "226.53645029136163",
         "448.1326702870301"
        ],
        [
         "Annual income",
         "134.84312517342954",
         "223.51114496456404"
        ],
        [
         "Market Cap (trillions)",
         "3.3788747689418397",
         "5.074650647447287"
        ]
       ],
       "shape": {
        "columns": 2,
        "rows": 13
       }
      },
      "text/html": [
       "<div>\n",
       "<style scoped>\n",
       "    .dataframe tbody tr th:only-of-type {\n",
       "        vertical-align: middle;\n",
       "    }\n",
       "\n",
       "    .dataframe tbody tr th {\n",
       "        vertical-align: top;\n",
       "    }\n",
       "\n",
       "    .dataframe thead th {\n",
       "        text-align: right;\n",
       "    }\n",
       "</style>\n",
       "<table border=\"1\" class=\"dataframe\">\n",
       "  <thead>\n",
       "    <tr style=\"text-align: right;\">\n",
       "      <th></th>\n",
       "      <th>30%</th>\n",
       "      <th>49%</th>\n",
       "    </tr>\n",
       "  </thead>\n",
       "  <tbody>\n",
       "    <tr>\n",
       "      <th>Cohort Size (millions)</th>\n",
       "      <td>85.384281</td>\n",
       "      <td>139.460992</td>\n",
       "    </tr>\n",
       "    <tr>\n",
       "      <th>Max. Cohort Mileage</th>\n",
       "      <td>5617.451754</td>\n",
       "      <td>8946.679018</td>\n",
       "    </tr>\n",
       "    <tr>\n",
       "      <th>Total Cohort Miles (billions)</th>\n",
       "      <td>269.686250</td>\n",
       "      <td>660.651545</td>\n",
       "    </tr>\n",
       "    <tr>\n",
       "      <th>Extra per mile</th>\n",
       "      <td>0.817200</td>\n",
       "      <td>0.642585</td>\n",
       "    </tr>\n",
       "    <tr>\n",
       "      <th>Extra per year</th>\n",
       "      <td>4590.581573</td>\n",
       "      <td>5749.000000</td>\n",
       "    </tr>\n",
       "    <tr>\n",
       "      <th>Total per mile</th>\n",
       "      <td>0.907200</td>\n",
       "      <td>0.732585</td>\n",
       "    </tr>\n",
       "    <tr>\n",
       "      <th>Tax per mile</th>\n",
       "      <td>0.067200</td>\n",
       "      <td>0.054266</td>\n",
       "    </tr>\n",
       "    <tr>\n",
       "      <th>Offset per mile</th>\n",
       "      <td>0.090000</td>\n",
       "      <td>0.090000</td>\n",
       "    </tr>\n",
       "    <tr>\n",
       "      <th>Operation per mile</th>\n",
       "      <td>0.250000</td>\n",
       "      <td>0.250000</td>\n",
       "    </tr>\n",
       "    <tr>\n",
       "      <th>Profit per mile</th>\n",
       "      <td>0.500000</td>\n",
       "      <td>0.338319</td>\n",
       "    </tr>\n",
       "    <tr>\n",
       "      <th>Annual revenue</th>\n",
       "      <td>226.536450</td>\n",
       "      <td>448.132670</td>\n",
       "    </tr>\n",
       "    <tr>\n",
       "      <th>Annual income</th>\n",
       "      <td>134.843125</td>\n",
       "      <td>223.511145</td>\n",
       "    </tr>\n",
       "    <tr>\n",
       "      <th>Market Cap (trillions)</th>\n",
       "      <td>3.378875</td>\n",
       "      <td>5.074651</td>\n",
       "    </tr>\n",
       "  </tbody>\n",
       "</table>\n",
       "</div>"
      ],
      "text/plain": [
       "                                       30%          49%\n",
       "Cohort Size (millions)           85.384281   139.460992\n",
       "Max. Cohort Mileage            5617.451754  8946.679018\n",
       "Total Cohort Miles (billions)   269.686250   660.651545\n",
       "Extra per mile                    0.817200     0.642585\n",
       "Extra per year                 4590.581573  5749.000000\n",
       "Total per mile                    0.907200     0.732585\n",
       "Tax per mile                      0.067200     0.054266\n",
       "Offset per mile                   0.090000     0.090000\n",
       "Operation per mile                0.250000     0.250000\n",
       "Profit per mile                   0.500000     0.338319\n",
       "Annual revenue                  226.536450   448.132670\n",
       "Annual income                   134.843125   223.511145\n",
       "Market Cap (trillions)            3.378875     5.074651"
      ]
     },
     "metadata": {},
     "output_type": "display_data"
    }
   ],
   "source": [
    "cost_op_improved = 0.25\n",
    "\n",
    "tam_improved_df = quantile_df.copy()\n",
    "tam_improved_df[\"Extra per mile\"] = (annual_ownership/\n",
    "        tam_improved_df[\"Max. Cohort Mileage\"]).clip(upper=(\n",
    "        cost_op_improved+profit_max)*(1+tax_sales)+cost_offset*tax_sales)\n",
    "tam_improved_df[\"Extra per year\"] = (tam_improved_df[\"Extra per mile\"]\n",
    "                                     *tam_improved_df[\"Max. Cohort Mileage\"])\n",
    "tam_improved_df[\"Total per mile\"] = (tam_improved_df[\"Extra per mile\"]\n",
    "                                     + cost_offset)\n",
    "tam_improved_df[\"Tax per mile\"] = (tam_improved_df[\"Total per mile\"]\n",
    "                                   /(1+tax_sales)*tax_sales)\n",
    "tam_improved_df[\"Offset per mile\"] = cost_offset\n",
    "tam_improved_df[\"Operation per mile\"] = cost_op_improved\n",
    "tam_improved_df[\"Profit per mile\"] = (tam_improved_df[\"Total per mile\"]\n",
    "        - tam_improved_df[\"Tax per mile\"] - tam_improved_df[\"Offset per mile\"]\n",
    "        - tam_improved_df[\"Operation per mile\"])\n",
    "tam_improved_df[\"Annual revenue\"] = (tam_improved_df[\"Total per mile\"]\n",
    "                                     - tam_improved_df[\"Tax per mile\"]\n",
    "        )*tam_improved_df[\"Total Cohort Miles (billions)\"]\n",
    "tam_improved_df[\"Annual income\"] = (tam_improved_df[\"Profit per mile\"]\n",
    "                *tam_improved_df[\"Total Cohort Miles (billions)\"])\n",
    "tam_improved_df[\"Market Cap (trillions)\"] = (tam_improved_df[\"Annual income\"]\n",
    "        *(1-tax_corp)*(1-dilution)*pe/1000 + mark_cap_ev + mark_cap_others)\n",
    "tam_improved_df.set_index(keys=\"Quantile\",inplace=True)\n",
    "#display(tam_improved_df)\n",
    "\n",
    "tam_improved_base_bull = pandas.DataFrame(tam_improved_df.loc[[\n",
    "            tam_improved_df[\"Market Cap (trillions)\"].index[0],\n",
    "            tam_improved_df[\"Market Cap (trillions)\"].idxmax()]]).transpose()\n",
    "tam_improved_base_bull.columns = [f\"{x:.0%}\"\n",
    "                                  for x in tam_improved_base_bull.columns]\n",
    "display(tam_improved_base_bull)"
   ]
  },
  {
   "cell_type": "markdown",
   "metadata": {},
   "source": [
    "<a id='appendix-c-monte-carlo-validation'></a>\n",
    "## Appendix C: Monte Carlo Validation\n",
    "To ensure the accuracy of the analysis, all prior calculations were verified using Monte Carlo simulations. These simulations confirmed the correctness of the analytical calculations and have no impact on the results or conclusions presented. Readers may safely disregard this section, as it is included solely for technical reference."
   ]
  },
  {
   "cell_type": "code",
   "execution_count": 10,
   "metadata": {},
   "outputs": [
    {
     "name": "stdout",
     "output_type": "stream",
     "text": [
      "Gamma mean analytical: 1\n",
      "Gamma mean Monte Carlo: 1.0000170933219872\n",
      "\n",
      "Gamma stdev analytical: 0.7898564477599358\n",
      "Gamma stdev Monte Carlo: 0.7899192724851233\n"
     ]
    }
   ],
   "source": [
    "# Monte Carlo validation: Gamma distribution\n",
    "n = 100000000\n",
    "mc_sample = numpy.random.gamma(alpha, scale=mean/alpha,size=n)\n",
    "mc_sample_sum = numpy.sum(mc_sample)\n",
    "print(\"Gamma mean analytical:\", mean)\n",
    "print(\"Gamma mean Monte Carlo:\", numpy.mean(mc_sample))\n",
    "print()\n",
    "print(\"Gamma stdev analytical:\", mean/alpha**0.5)\n",
    "print(\"Gamma stdev Monte Carlo:\", numpy.std(mc_sample))"
   ]
  },
  {
   "cell_type": "code",
   "execution_count": 11,
   "metadata": {},
   "outputs": [
    {
     "name": "stdout",
     "output_type": "stream",
     "text": [
      "NHTS 2017 bucket probabilities\n"
     ]
    },
    {
     "data": {
      "application/vnd.microsoft.datawrangler.viewer.v0+json": {
       "columns": [
        {
         "name": "index",
         "rawType": "object",
         "type": "string"
        },
        {
         "name": "Analytical",
         "rawType": "object",
         "type": "string"
        },
        {
         "name": "Monte Carlo",
         "rawType": "object",
         "type": "string"
        }
       ],
       "conversionMethod": "pd.DataFrame",
       "ref": "a0a9ce3b-149e-4d51-b96e-ee5fa73d6a5e",
       "rows": [
        [
         "Less than 5,000 miles",
         "26.9261%",
         "26.9266%"
        ],
        [
         "5,000 - 9,999 miles",
         "28.4386%",
         "28.4409%"
        ],
        [
         "10,000 - 14,999 miles",
         "19.0795%",
         "19.0749%"
        ],
        [
         "15,000 - 19,999 miles",
         "11.4321%",
         "11.4346%"
        ],
        [
         "20,000 - 24,999 miles",
         "6.4918%",
         "6.4900%"
        ],
        [
         "25,000 - 29,999 miles",
         "3.5720%",
         "3.5717%"
        ],
        [
         "30,000 - 39,999 miles",
         "2.9471%",
         "2.9483%"
        ],
        [
         "40,000 miles and above",
         "1.1128%",
         "1.1131%"
        ]
       ],
       "shape": {
        "columns": 2,
        "rows": 8
       }
      },
      "text/html": [
       "<div>\n",
       "<style scoped>\n",
       "    .dataframe tbody tr th:only-of-type {\n",
       "        vertical-align: middle;\n",
       "    }\n",
       "\n",
       "    .dataframe tbody tr th {\n",
       "        vertical-align: top;\n",
       "    }\n",
       "\n",
       "    .dataframe thead th {\n",
       "        text-align: right;\n",
       "    }\n",
       "</style>\n",
       "<table border=\"1\" class=\"dataframe\">\n",
       "  <thead>\n",
       "    <tr style=\"text-align: right;\">\n",
       "      <th></th>\n",
       "      <th>Analytical</th>\n",
       "      <th>Monte Carlo</th>\n",
       "    </tr>\n",
       "  </thead>\n",
       "  <tbody>\n",
       "    <tr>\n",
       "      <th>Less than 5,000 miles</th>\n",
       "      <td>26.9261%</td>\n",
       "      <td>26.9266%</td>\n",
       "    </tr>\n",
       "    <tr>\n",
       "      <th>5,000 - 9,999 miles</th>\n",
       "      <td>28.4386%</td>\n",
       "      <td>28.4409%</td>\n",
       "    </tr>\n",
       "    <tr>\n",
       "      <th>10,000 - 14,999 miles</th>\n",
       "      <td>19.0795%</td>\n",
       "      <td>19.0749%</td>\n",
       "    </tr>\n",
       "    <tr>\n",
       "      <th>15,000 - 19,999 miles</th>\n",
       "      <td>11.4321%</td>\n",
       "      <td>11.4346%</td>\n",
       "    </tr>\n",
       "    <tr>\n",
       "      <th>20,000 - 24,999 miles</th>\n",
       "      <td>6.4918%</td>\n",
       "      <td>6.4900%</td>\n",
       "    </tr>\n",
       "    <tr>\n",
       "      <th>25,000 - 29,999 miles</th>\n",
       "      <td>3.5720%</td>\n",
       "      <td>3.5717%</td>\n",
       "    </tr>\n",
       "    <tr>\n",
       "      <th>30,000 - 39,999 miles</th>\n",
       "      <td>2.9471%</td>\n",
       "      <td>2.9483%</td>\n",
       "    </tr>\n",
       "    <tr>\n",
       "      <th>40,000 miles and above</th>\n",
       "      <td>1.1128%</td>\n",
       "      <td>1.1131%</td>\n",
       "    </tr>\n",
       "  </tbody>\n",
       "</table>\n",
       "</div>"
      ],
      "text/plain": [
       "                       Analytical Monte Carlo\n",
       "Less than 5,000 miles    26.9261%    26.9266%\n",
       "5,000 - 9,999 miles      28.4386%    28.4409%\n",
       "10,000 - 14,999 miles    19.0795%    19.0749%\n",
       "15,000 - 19,999 miles    11.4321%    11.4346%\n",
       "20,000 - 24,999 miles     6.4918%     6.4900%\n",
       "25,000 - 29,999 miles     3.5720%     3.5717%\n",
       "30,000 - 39,999 miles     2.9471%     2.9483%\n",
       "40,000 miles and above    1.1128%     1.1131%"
      ]
     },
     "metadata": {},
     "output_type": "display_data"
    },
    {
     "name": "stdout",
     "output_type": "stream",
     "text": [
      "NHTS 2017 bucket averages\n"
     ]
    },
    {
     "data": {
      "application/vnd.microsoft.datawrangler.viewer.v0+json": {
       "columns": [
        {
         "name": "index",
         "rawType": "object",
         "type": "string"
        },
        {
         "name": "Analytical",
         "rawType": "object",
         "type": "string"
        },
        {
         "name": "Monte Carlo",
         "rawType": "object",
         "type": "string"
        }
       ],
       "conversionMethod": "pd.DataFrame",
       "ref": "9b198a91-b0c2-4341-a0a0-1c42adf04f9f",
       "rows": [
        [
         "Less than 5,000 miles",
         "2835.3735",
         "2835.4944"
        ],
        [
         "5,000 - 9,999 miles",
         "7372.7548",
         "7372.9955"
        ],
        [
         "10,000 - 14,999 miles",
         "12302.6769",
         "12302.2229"
        ],
        [
         "15,000 - 19,999 miles",
         "17273.5540",
         "17274.0222"
        ],
        [
         "20,000 - 24,999 miles",
         "22257.5701",
         "22256.8893"
        ],
        [
         "25,000 - 29,999 miles",
         "27247.4645",
         "27247.9596"
        ],
        [
         "30,000 - 39,999 miles",
         "33972.9235",
         "33973.1212"
        ],
        [
         "40,000 miles and above",
         "47536.5075",
         "47542.3979"
        ]
       ],
       "shape": {
        "columns": 2,
        "rows": 8
       }
      },
      "text/html": [
       "<div>\n",
       "<style scoped>\n",
       "    .dataframe tbody tr th:only-of-type {\n",
       "        vertical-align: middle;\n",
       "    }\n",
       "\n",
       "    .dataframe tbody tr th {\n",
       "        vertical-align: top;\n",
       "    }\n",
       "\n",
       "    .dataframe thead th {\n",
       "        text-align: right;\n",
       "    }\n",
       "</style>\n",
       "<table border=\"1\" class=\"dataframe\">\n",
       "  <thead>\n",
       "    <tr style=\"text-align: right;\">\n",
       "      <th></th>\n",
       "      <th>Analytical</th>\n",
       "      <th>Monte Carlo</th>\n",
       "    </tr>\n",
       "  </thead>\n",
       "  <tbody>\n",
       "    <tr>\n",
       "      <th>Less than 5,000 miles</th>\n",
       "      <td>2835.3735</td>\n",
       "      <td>2835.4944</td>\n",
       "    </tr>\n",
       "    <tr>\n",
       "      <th>5,000 - 9,999 miles</th>\n",
       "      <td>7372.7548</td>\n",
       "      <td>7372.9955</td>\n",
       "    </tr>\n",
       "    <tr>\n",
       "      <th>10,000 - 14,999 miles</th>\n",
       "      <td>12302.6769</td>\n",
       "      <td>12302.2229</td>\n",
       "    </tr>\n",
       "    <tr>\n",
       "      <th>15,000 - 19,999 miles</th>\n",
       "      <td>17273.5540</td>\n",
       "      <td>17274.0222</td>\n",
       "    </tr>\n",
       "    <tr>\n",
       "      <th>20,000 - 24,999 miles</th>\n",
       "      <td>22257.5701</td>\n",
       "      <td>22256.8893</td>\n",
       "    </tr>\n",
       "    <tr>\n",
       "      <th>25,000 - 29,999 miles</th>\n",
       "      <td>27247.4645</td>\n",
       "      <td>27247.9596</td>\n",
       "    </tr>\n",
       "    <tr>\n",
       "      <th>30,000 - 39,999 miles</th>\n",
       "      <td>33972.9235</td>\n",
       "      <td>33973.1212</td>\n",
       "    </tr>\n",
       "    <tr>\n",
       "      <th>40,000 miles and above</th>\n",
       "      <td>47536.5075</td>\n",
       "      <td>47542.3979</td>\n",
       "    </tr>\n",
       "  </tbody>\n",
       "</table>\n",
       "</div>"
      ],
      "text/plain": [
       "                        Analytical Monte Carlo\n",
       "Less than 5,000 miles    2835.3735   2835.4944\n",
       "5,000 - 9,999 miles      7372.7548   7372.9955\n",
       "10,000 - 14,999 miles   12302.6769  12302.2229\n",
       "15,000 - 19,999 miles   17273.5540  17274.0222\n",
       "20,000 - 24,999 miles   22257.5701  22256.8893\n",
       "25,000 - 29,999 miles   27247.4645  27247.9596\n",
       "30,000 - 39,999 miles   33972.9235  33973.1212\n",
       "40,000 miles and above  47536.5075  47542.3979"
      ]
     },
     "metadata": {},
     "output_type": "display_data"
    }
   ],
   "source": [
    "# Monte Carlo validation: NHTS 2017 fit\n",
    "_df_comparison = mc_sample[:,numpy.newaxis] <= x_vec\n",
    "_cdf_mc = numpy.sum(_df_comparison,axis=0)/n\n",
    "mile_hist_mc = numpy.append(_cdf_mc, 1.0) - numpy.append(0.0,_cdf_mc)\n",
    "del _df_comparison, _cdf_mc\n",
    "\n",
    "print(\"NHTS 2017 bucket probabilities\")\n",
    "mcdf_nhts2017_prob = pandas.DataFrame({\"Analytical\": mile_hist_fitted,\n",
    "                                       \"Monte Carlo\": mile_hist_mc},\n",
    "                                       index=x_text)\n",
    "mcdf_nhts2017_prob[\"Analytical\"] = \\\n",
    "        mcdf_nhts2017_prob[\"Analytical\"].apply(lambda x: f\"{x:.4%}\")\n",
    "mcdf_nhts2017_prob[\"Monte Carlo\"] = \\\n",
    "        mcdf_nhts2017_prob[\"Monte Carlo\"].apply(lambda x: f\"{x:.4%}\")\n",
    "display(mcdf_nhts2017_prob)\n",
    "\n",
    "print(\"NHTS 2017 bucket averages\")\n",
    "_df_comparison = numpy.logical_and(\n",
    "        mc_sample[:,numpy.newaxis] > numpy.append(-0.0001, x_vec),\n",
    "        mc_sample[:,numpy.newaxis] <= numpy.append(x_vec,10000.0))\n",
    "_df_bracket_mean = mc_sample[:,numpy.newaxis]*_df_comparison\n",
    "mile_hist_mean_mc = numpy.sum(_df_bracket_mean,axis=0)\\\n",
    "                                /numpy.sum(_df_comparison,axis=0)*mile_mean\n",
    "mcdf_nhts2017_mean = pandas.DataFrame({\"Analytical\": mile_hist_mean_fitted,\n",
    "                                       \"Monte Carlo\": mile_hist_mean_mc},\n",
    "                                       index=x_text)\n",
    "mcdf_nhts2017_mean[\"Analytical\"] = \\\n",
    "        mcdf_nhts2017_mean[\"Analytical\"].apply(lambda x: f\"{x:.4f}\")\n",
    "mcdf_nhts2017_mean[\"Monte Carlo\"] = \\\n",
    "        mcdf_nhts2017_mean[\"Monte Carlo\"].apply(lambda x: f\"{x:.4f}\")\n",
    "display(mcdf_nhts2017_mean)\n",
    "del _df_comparison, _df_bracket_mean"
   ]
  },
  {
   "cell_type": "code",
   "execution_count": 12,
   "metadata": {},
   "outputs": [
    {
     "name": "stdout",
     "output_type": "stream",
     "text": [
      "Max. cohort mileage\n"
     ]
    },
    {
     "data": {
      "application/vnd.microsoft.datawrangler.viewer.v0+json": {
       "columns": [
        {
         "name": "index",
         "rawType": "object",
         "type": "string"
        },
        {
         "name": "Analytical",
         "rawType": "object",
         "type": "string"
        },
        {
         "name": "Monte Carlo",
         "rawType": "object",
         "type": "string"
        }
       ],
       "conversionMethod": "pd.DataFrame",
       "ref": "c393461d-fec1-4cbc-a1a3-62fea8dac0f4",
       "rows": [
        [
         "30%",
         "5617.4518",
         "5617.0309"
        ],
        [
         "31%",
         "5779.4469",
         "5778.8164"
        ],
        [
         "32%",
         "5942.3972",
         "5941.7837"
        ],
        [
         "33%",
         "6106.3909",
         "6106.0183"
        ],
        [
         "34%",
         "6271.5157",
         "6271.2220"
        ],
        [
         "35%",
         "6437.8592",
         "6437.9183"
        ],
        [
         "36%",
         "6605.5094",
         "6605.7528"
        ],
        [
         "37%",
         "6774.5549",
         "6774.7470"
        ],
        [
         "38%",
         "6945.0853",
         "6945.5386"
        ],
        [
         "39%",
         "7117.1917",
         "7117.7651"
        ],
        [
         "40%",
         "7290.9669",
         "7291.5869"
        ],
        [
         "41%",
         "7466.5057",
         "7467.1922"
        ],
        [
         "42%",
         "7643.9055",
         "7644.5856"
        ],
        [
         "43%",
         "7823.2664",
         "7823.9204"
        ],
        [
         "44%",
         "8004.6918",
         "8005.2458"
        ],
        [
         "45%",
         "8188.2887",
         "8188.5314"
        ],
        [
         "46%",
         "8374.1679",
         "8374.3613"
        ],
        [
         "47%",
         "8562.4450",
         "8562.3181"
        ],
        [
         "48%",
         "8753.2401",
         "8752.9865"
        ],
        [
         "49%",
         "8946.6790",
         "8946.2225"
        ],
        [
         "50%",
         "9142.8933",
         "9142.3224"
        ]
       ],
       "shape": {
        "columns": 2,
        "rows": 21
       }
      },
      "text/html": [
       "<div>\n",
       "<style scoped>\n",
       "    .dataframe tbody tr th:only-of-type {\n",
       "        vertical-align: middle;\n",
       "    }\n",
       "\n",
       "    .dataframe tbody tr th {\n",
       "        vertical-align: top;\n",
       "    }\n",
       "\n",
       "    .dataframe thead th {\n",
       "        text-align: right;\n",
       "    }\n",
       "</style>\n",
       "<table border=\"1\" class=\"dataframe\">\n",
       "  <thead>\n",
       "    <tr style=\"text-align: right;\">\n",
       "      <th></th>\n",
       "      <th>Analytical</th>\n",
       "      <th>Monte Carlo</th>\n",
       "    </tr>\n",
       "  </thead>\n",
       "  <tbody>\n",
       "    <tr>\n",
       "      <th>30%</th>\n",
       "      <td>5617.4518</td>\n",
       "      <td>5617.0309</td>\n",
       "    </tr>\n",
       "    <tr>\n",
       "      <th>31%</th>\n",
       "      <td>5779.4469</td>\n",
       "      <td>5778.8164</td>\n",
       "    </tr>\n",
       "    <tr>\n",
       "      <th>32%</th>\n",
       "      <td>5942.3972</td>\n",
       "      <td>5941.7837</td>\n",
       "    </tr>\n",
       "    <tr>\n",
       "      <th>33%</th>\n",
       "      <td>6106.3909</td>\n",
       "      <td>6106.0183</td>\n",
       "    </tr>\n",
       "    <tr>\n",
       "      <th>34%</th>\n",
       "      <td>6271.5157</td>\n",
       "      <td>6271.2220</td>\n",
       "    </tr>\n",
       "    <tr>\n",
       "      <th>35%</th>\n",
       "      <td>6437.8592</td>\n",
       "      <td>6437.9183</td>\n",
       "    </tr>\n",
       "    <tr>\n",
       "      <th>36%</th>\n",
       "      <td>6605.5094</td>\n",
       "      <td>6605.7528</td>\n",
       "    </tr>\n",
       "    <tr>\n",
       "      <th>37%</th>\n",
       "      <td>6774.5549</td>\n",
       "      <td>6774.7470</td>\n",
       "    </tr>\n",
       "    <tr>\n",
       "      <th>38%</th>\n",
       "      <td>6945.0853</td>\n",
       "      <td>6945.5386</td>\n",
       "    </tr>\n",
       "    <tr>\n",
       "      <th>39%</th>\n",
       "      <td>7117.1917</td>\n",
       "      <td>7117.7651</td>\n",
       "    </tr>\n",
       "    <tr>\n",
       "      <th>40%</th>\n",
       "      <td>7290.9669</td>\n",
       "      <td>7291.5869</td>\n",
       "    </tr>\n",
       "    <tr>\n",
       "      <th>41%</th>\n",
       "      <td>7466.5057</td>\n",
       "      <td>7467.1922</td>\n",
       "    </tr>\n",
       "    <tr>\n",
       "      <th>42%</th>\n",
       "      <td>7643.9055</td>\n",
       "      <td>7644.5856</td>\n",
       "    </tr>\n",
       "    <tr>\n",
       "      <th>43%</th>\n",
       "      <td>7823.2664</td>\n",
       "      <td>7823.9204</td>\n",
       "    </tr>\n",
       "    <tr>\n",
       "      <th>44%</th>\n",
       "      <td>8004.6918</td>\n",
       "      <td>8005.2458</td>\n",
       "    </tr>\n",
       "    <tr>\n",
       "      <th>45%</th>\n",
       "      <td>8188.2887</td>\n",
       "      <td>8188.5314</td>\n",
       "    </tr>\n",
       "    <tr>\n",
       "      <th>46%</th>\n",
       "      <td>8374.1679</td>\n",
       "      <td>8374.3613</td>\n",
       "    </tr>\n",
       "    <tr>\n",
       "      <th>47%</th>\n",
       "      <td>8562.4450</td>\n",
       "      <td>8562.3181</td>\n",
       "    </tr>\n",
       "    <tr>\n",
       "      <th>48%</th>\n",
       "      <td>8753.2401</td>\n",
       "      <td>8752.9865</td>\n",
       "    </tr>\n",
       "    <tr>\n",
       "      <th>49%</th>\n",
       "      <td>8946.6790</td>\n",
       "      <td>8946.2225</td>\n",
       "    </tr>\n",
       "    <tr>\n",
       "      <th>50%</th>\n",
       "      <td>9142.8933</td>\n",
       "      <td>9142.3224</td>\n",
       "    </tr>\n",
       "  </tbody>\n",
       "</table>\n",
       "</div>"
      ],
      "text/plain": [
       "    Analytical Monte Carlo\n",
       "30%  5617.4518   5617.0309\n",
       "31%  5779.4469   5778.8164\n",
       "32%  5942.3972   5941.7837\n",
       "33%  6106.3909   6106.0183\n",
       "34%  6271.5157   6271.2220\n",
       "35%  6437.8592   6437.9183\n",
       "36%  6605.5094   6605.7528\n",
       "37%  6774.5549   6774.7470\n",
       "38%  6945.0853   6945.5386\n",
       "39%  7117.1917   7117.7651\n",
       "40%  7290.9669   7291.5869\n",
       "41%  7466.5057   7467.1922\n",
       "42%  7643.9055   7644.5856\n",
       "43%  7823.2664   7823.9204\n",
       "44%  8004.6918   8005.2458\n",
       "45%  8188.2887   8188.5314\n",
       "46%  8374.1679   8374.3613\n",
       "47%  8562.4450   8562.3181\n",
       "48%  8753.2401   8752.9865\n",
       "49%  8946.6790   8946.2225\n",
       "50%  9142.8933   9142.3224"
      ]
     },
     "metadata": {},
     "output_type": "display_data"
    },
    {
     "name": "stdout",
     "output_type": "stream",
     "text": [
      "Total cohort miles (billions)\n"
     ]
    },
    {
     "data": {
      "application/vnd.microsoft.datawrangler.viewer.v0+json": {
       "columns": [
        {
         "name": "index",
         "rawType": "object",
         "type": "string"
        },
        {
         "name": "Analytical",
         "rawType": "object",
         "type": "string"
        },
        {
         "name": "Monte Carlo",
         "rawType": "object",
         "type": "string"
        }
       ],
       "conversionMethod": "pd.DataFrame",
       "ref": "94d05595-a32d-4cb8-8fa5-b34b7048827a",
       "rows": [
        [
         "30%",
         "269.6863",
         "269.6847"
        ],
        [
         "31%",
         "285.9046",
         "285.9015"
        ],
        [
         "32%",
         "302.5854",
         "302.5804"
        ],
        [
         "33%",
         "319.7314",
         "319.7247"
        ],
        [
         "34%",
         "337.3458",
         "337.3380"
        ],
        [
         "35%",
         "355.4319",
         "355.4235"
        ],
        [
         "36%",
         "373.9932",
         "373.9851"
        ],
        [
         "37%",
         "393.0336",
         "393.0258"
        ],
        [
         "38%",
         "412.5573",
         "412.5500"
        ],
        [
         "39%",
         "432.5685",
         "432.5624"
        ],
        [
         "40%",
         "453.0720",
         "453.0672"
        ],
        [
         "41%",
         "474.0725",
         "474.0695"
        ],
        [
         "42%",
         "495.5752",
         "495.5739"
        ],
        [
         "43%",
         "517.5856",
         "517.5858"
        ],
        [
         "44%",
         "540.1094",
         "540.1106"
        ],
        [
         "45%",
         "563.1527",
         "563.1545"
        ],
        [
         "46%",
         "586.7217",
         "586.7238"
        ],
        [
         "47%",
         "610.8231",
         "610.8249"
        ],
        [
         "48%",
         "635.4639",
         "635.4648"
        ],
        [
         "49%",
         "660.6515",
         "660.6508"
        ],
        [
         "50%",
         "686.3936",
         "686.3910"
        ]
       ],
       "shape": {
        "columns": 2,
        "rows": 21
       }
      },
      "text/html": [
       "<div>\n",
       "<style scoped>\n",
       "    .dataframe tbody tr th:only-of-type {\n",
       "        vertical-align: middle;\n",
       "    }\n",
       "\n",
       "    .dataframe tbody tr th {\n",
       "        vertical-align: top;\n",
       "    }\n",
       "\n",
       "    .dataframe thead th {\n",
       "        text-align: right;\n",
       "    }\n",
       "</style>\n",
       "<table border=\"1\" class=\"dataframe\">\n",
       "  <thead>\n",
       "    <tr style=\"text-align: right;\">\n",
       "      <th></th>\n",
       "      <th>Analytical</th>\n",
       "      <th>Monte Carlo</th>\n",
       "    </tr>\n",
       "  </thead>\n",
       "  <tbody>\n",
       "    <tr>\n",
       "      <th>30%</th>\n",
       "      <td>269.6863</td>\n",
       "      <td>269.6847</td>\n",
       "    </tr>\n",
       "    <tr>\n",
       "      <th>31%</th>\n",
       "      <td>285.9046</td>\n",
       "      <td>285.9015</td>\n",
       "    </tr>\n",
       "    <tr>\n",
       "      <th>32%</th>\n",
       "      <td>302.5854</td>\n",
       "      <td>302.5804</td>\n",
       "    </tr>\n",
       "    <tr>\n",
       "      <th>33%</th>\n",
       "      <td>319.7314</td>\n",
       "      <td>319.7247</td>\n",
       "    </tr>\n",
       "    <tr>\n",
       "      <th>34%</th>\n",
       "      <td>337.3458</td>\n",
       "      <td>337.3380</td>\n",
       "    </tr>\n",
       "    <tr>\n",
       "      <th>35%</th>\n",
       "      <td>355.4319</td>\n",
       "      <td>355.4235</td>\n",
       "    </tr>\n",
       "    <tr>\n",
       "      <th>36%</th>\n",
       "      <td>373.9932</td>\n",
       "      <td>373.9851</td>\n",
       "    </tr>\n",
       "    <tr>\n",
       "      <th>37%</th>\n",
       "      <td>393.0336</td>\n",
       "      <td>393.0258</td>\n",
       "    </tr>\n",
       "    <tr>\n",
       "      <th>38%</th>\n",
       "      <td>412.5573</td>\n",
       "      <td>412.5500</td>\n",
       "    </tr>\n",
       "    <tr>\n",
       "      <th>39%</th>\n",
       "      <td>432.5685</td>\n",
       "      <td>432.5624</td>\n",
       "    </tr>\n",
       "    <tr>\n",
       "      <th>40%</th>\n",
       "      <td>453.0720</td>\n",
       "      <td>453.0672</td>\n",
       "    </tr>\n",
       "    <tr>\n",
       "      <th>41%</th>\n",
       "      <td>474.0725</td>\n",
       "      <td>474.0695</td>\n",
       "    </tr>\n",
       "    <tr>\n",
       "      <th>42%</th>\n",
       "      <td>495.5752</td>\n",
       "      <td>495.5739</td>\n",
       "    </tr>\n",
       "    <tr>\n",
       "      <th>43%</th>\n",
       "      <td>517.5856</td>\n",
       "      <td>517.5858</td>\n",
       "    </tr>\n",
       "    <tr>\n",
       "      <th>44%</th>\n",
       "      <td>540.1094</td>\n",
       "      <td>540.1106</td>\n",
       "    </tr>\n",
       "    <tr>\n",
       "      <th>45%</th>\n",
       "      <td>563.1527</td>\n",
       "      <td>563.1545</td>\n",
       "    </tr>\n",
       "    <tr>\n",
       "      <th>46%</th>\n",
       "      <td>586.7217</td>\n",
       "      <td>586.7238</td>\n",
       "    </tr>\n",
       "    <tr>\n",
       "      <th>47%</th>\n",
       "      <td>610.8231</td>\n",
       "      <td>610.8249</td>\n",
       "    </tr>\n",
       "    <tr>\n",
       "      <th>48%</th>\n",
       "      <td>635.4639</td>\n",
       "      <td>635.4648</td>\n",
       "    </tr>\n",
       "    <tr>\n",
       "      <th>49%</th>\n",
       "      <td>660.6515</td>\n",
       "      <td>660.6508</td>\n",
       "    </tr>\n",
       "    <tr>\n",
       "      <th>50%</th>\n",
       "      <td>686.3936</td>\n",
       "      <td>686.3910</td>\n",
       "    </tr>\n",
       "  </tbody>\n",
       "</table>\n",
       "</div>"
      ],
      "text/plain": [
       "    Analytical Monte Carlo\n",
       "30%   269.6863    269.6847\n",
       "31%   285.9046    285.9015\n",
       "32%   302.5854    302.5804\n",
       "33%   319.7314    319.7247\n",
       "34%   337.3458    337.3380\n",
       "35%   355.4319    355.4235\n",
       "36%   373.9932    373.9851\n",
       "37%   393.0336    393.0258\n",
       "38%   412.5573    412.5500\n",
       "39%   432.5685    432.5624\n",
       "40%   453.0720    453.0672\n",
       "41%   474.0725    474.0695\n",
       "42%   495.5752    495.5739\n",
       "43%   517.5856    517.5858\n",
       "44%   540.1094    540.1106\n",
       "45%   563.1527    563.1545\n",
       "46%   586.7217    586.7238\n",
       "47%   610.8231    610.8249\n",
       "48%   635.4639    635.4648\n",
       "49%   660.6515    660.6508\n",
       "50%   686.3936    686.3910"
      ]
     },
     "metadata": {},
     "output_type": "display_data"
    }
   ],
   "source": [
    "# Monte Carlo validation: quantile analysis\n",
    "print(\"Max. cohort mileage\")\n",
    "quantile_vec_mc = numpy.percentile(mc_sample,prob_vec*100)*tmv_average\n",
    "mcdf_quantile_max = pandas.DataFrame({\"Quantile\": prob_vec,\n",
    "                                      \"Analytical\": quantile_vec,\n",
    "                                      \"Monte Carlo\": quantile_vec_mc})\n",
    "mcdf_quantile_max[\"Quantile\"] = \\\n",
    "        mcdf_quantile_max[\"Quantile\"].apply(lambda x: f\"{x:.0%}\")\n",
    "mcdf_quantile_max[\"Analytical\"] = \\\n",
    "        mcdf_quantile_max[\"Analytical\"].apply(lambda x: f\"{x:.4f}\")\n",
    "mcdf_quantile_max[\"Monte Carlo\"] = \\\n",
    "        mcdf_quantile_max[\"Monte Carlo\"].apply(lambda x: f\"{x:.4f}\")\n",
    "mcdf_quantile_max.set_index(\"Quantile\",inplace=True)\n",
    "mcdf_quantile_max.index.name = None\n",
    "display(mcdf_quantile_max)\n",
    "\n",
    "_df_comparison = mc_sample[:,numpy.newaxis] <= quantile_vec_mc/tmv_average\n",
    "partial_exp_vec_mc = numpy.sum(mc_sample[:,numpy.newaxis]*_df_comparison,axis=0\n",
    "                               )*us_tmv/1000000000/mc_sample_sum\n",
    "del _df_comparison\n",
    "\n",
    "print(\"Total cohort miles (billions)\")\n",
    "mcdf_quantile_total = pandas.DataFrame({\"Quantile\": prob_vec,\n",
    "                                      \"Analytical\": partial_exp_vec,\n",
    "                                      \"Monte Carlo\": partial_exp_vec_mc})\n",
    "mcdf_quantile_total[\"Quantile\"] = \\\n",
    "        mcdf_quantile_total[\"Quantile\"].apply(lambda x: f\"{x:.0%}\")\n",
    "mcdf_quantile_total[\"Analytical\"] = \\\n",
    "        mcdf_quantile_total[\"Analytical\"].apply(lambda x: f\"{x:.4f}\")\n",
    "mcdf_quantile_total[\"Monte Carlo\"] = \\\n",
    "        mcdf_quantile_total[\"Monte Carlo\"].apply(lambda x: f\"{x:.4f}\")\n",
    "mcdf_quantile_total.set_index(\"Quantile\",inplace=True)\n",
    "mcdf_quantile_total.index.name = None\n",
    "display(mcdf_quantile_total)"
   ]
  }
 ],
 "metadata": {
  "kernelspec": {
   "display_name": "Python 3",
   "language": "python",
   "name": "python3"
  },
  "language_info": {
   "codemirror_mode": {
    "name": "ipython",
    "version": 3
   },
   "file_extension": ".py",
   "mimetype": "text/x-python",
   "name": "python",
   "nbconvert_exporter": "python",
   "pygments_lexer": "ipython3",
   "version": "3.12.2"
  }
 },
 "nbformat": 4,
 "nbformat_minor": 2
}
